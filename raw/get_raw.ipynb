{
 "cells": [
  {
   "cell_type": "code",
   "execution_count": 2,
   "id": "ce1ced61",
   "metadata": {},
   "outputs": [
    {
     "name": "stdout",
     "output_type": "stream",
     "text": [
      "raw_data.csv 생성 완료 (경고 없이 저장)\n"
     ]
    }
   ],
   "source": [
    "import pandas as pd\n",
    "import numpy as np\n",
    "import yfinance as yf\n",
    "\n",
    "# 사용할 티커 리스트\n",
    "tickers = [\n",
    "    \"000270.KS\", \"000660.KS\", \"000810.KS\", \"005380.KS\", \"005490.KS\",\n",
    "    \"005930.KS\", \"005935.KS\", \"009540.KS\", \"010130.KS\", \"011200.KS\",\n",
    "    \"012330.KS\", \"012450.KS\", \"015760.KS\", \"028260.KS\", \"032830.KS\",\n",
    "    \"033780.KS\", \"034020.KS\", \"035420.KS\", \"035720.KS\", \"042660.KS\",\n",
    "    \"051910.KS\", \"055550.KS\", \"068270.KS\", \"086790.KS\", \"105560.KS\",\n",
    "    \"138040.KS\", \"207940.KS\", \"259960.KS\", \"329180.KS\", \"373220.KS\"\n",
    "]\n",
    "\n",
    "# 1) 다운로드 시 auto_adjust를 명시적으로 설정 (기본이 바뀌었으니 경고 안 나게)\n",
    "fetch_kwargs = {\n",
    "    'period':       'max',\n",
    "    'progress':     False,\n",
    "    'auto_adjust':  False   # 혹은 True, 원하시는 대로 명시적으로 지정\n",
    "}\n",
    "\n",
    "df_list = []\n",
    "for ticker in tickers:\n",
    "    try:\n",
    "        df = yf.download(ticker, **fetch_kwargs)\n",
    "        df.reset_index(inplace=True)\n",
    "        df['Ticker'] = ticker\n",
    "\n",
    "        info = yf.Ticker(ticker).info\n",
    "        df['Name'] = info.get('longName', '')\n",
    "\n",
    "        df['52_Week_High'] = df['Close'].rolling(252, min_periods=1).max()\n",
    "        df['52_Week_Low']  = df['Close'].rolling(252, min_periods=1).min()\n",
    "        df['SMA_5']        = df['Close'].rolling(5,   min_periods=1).mean()\n",
    "        df['SMA_20']       = df['Close'].rolling(20,  min_periods=1).mean()\n",
    "        df['Return']       = df['Close'].pct_change().fillna(0)\n",
    "        df['Volatility']   = df['Return'].rolling(20, min_periods=1).std().fillna(0)\n",
    "        df['Change_pct']   = df['Return'] * 100\n",
    "\n",
    "        df['Market_Cap']     = info.get('marketCap',     np.nan)\n",
    "        df['PER']            = info.get('trailingPE',    np.nan)\n",
    "        df['PBR']            = info.get('priceToBook',   np.nan)\n",
    "        df['Dividend_Yield'] = info.get('dividendYield', np.nan)\n",
    "        df['Beta']           = info.get('beta',          np.nan)\n",
    "\n",
    "        df_list.append(df)\n",
    "    except Exception as e:\n",
    "        print(f\"[경고] {ticker} 처리 중 에러: {e}\")\n",
    "\n",
    "# 2) concat 후 NaN 채우기 — group_keys=False 로 multi-index·성능 경고 해소\n",
    "raw_data = pd.concat(df_list, ignore_index=True)\n",
    "raw_data.sort_values(['Ticker','Date'], inplace=True)\n",
    "\n",
    "# raw_data = (\n",
    "#     raw_data\n",
    "#     .groupby('Ticker', group_keys=False)\n",
    "#     .apply(lambda grp: grp.ffill().bfill())\n",
    "#     .reset_index(drop=True)\n",
    "# )\n",
    "\n",
    "raw_data.to_csv('raw_data.csv', index=False)\n",
    "print(\"raw_data.csv 생성 완료 (경고 없이 저장)\") \n"
   ]
  }
 ],
 "metadata": {
  "kernelspec": {
   "display_name": "dev",
   "language": "python",
   "name": "python3"
  },
  "language_info": {
   "codemirror_mode": {
    "name": "ipython",
    "version": 3
   },
   "file_extension": ".py",
   "mimetype": "text/x-python",
   "name": "python",
   "nbconvert_exporter": "python",
   "pygments_lexer": "ipython3",
   "version": "3.10.16"
  }
 },
 "nbformat": 4,
 "nbformat_minor": 5
}
